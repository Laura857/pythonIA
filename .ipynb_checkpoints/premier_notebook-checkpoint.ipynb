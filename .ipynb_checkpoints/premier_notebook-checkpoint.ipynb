{
 "cells": [
  {
   "cell_type": "code",
   "execution_count": 2,
   "id": "997c2106",
   "metadata": {},
   "outputs": [
    {
     "name": "stdout",
     "output_type": "stream",
     "text": [
      "3\n"
     ]
    }
   ],
   "source": [
    "a = 3\n",
    "print(a)"
   ]
  },
  {
   "cell_type": "markdown",
   "id": "f6acae46",
   "metadata": {},
   "source": [
    "<h1>Bonjour</h1>"
   ]
  },
  {
   "cell_type": "markdown",
   "id": "0025d0ea",
   "metadata": {},
   "source": [
    "# Qd clic et que c’est en vert, on peut tapper du contenu\n",
    "## Pour changer le type de la cellule : \n",
    "* ESC + M si veux du markdown\n",
    "* ESC + Y si veux du code\n",
    "* Par défaut c’est un cellule de code \n",
    "## Pour exécuter une cellule : \n",
    "Shift + ENTER "
   ]
  },
  {
   "cell_type": "markdown",
   "id": "9f6751c1",
   "metadata": {},
   "source": [
    "D'autres raccourcis : \n",
    "- supprimer une cellule : (Esc) + D + D\n",
    "    - ajouter une cellule en dessous ou haut dessus : (Esc) + B ou A\n",
    "        - pour naviguer aux niveaux des cellules : flèches haut ou bas"
   ]
  },
  {
   "cell_type": "markdown",
   "id": "648dfd42",
   "metadata": {},
   "source": [
    "* pour enregistrer : Command + S"
   ]
  },
  {
   "cell_type": "markdown",
   "id": "28da3566",
   "metadata": {},
   "source": [
    "Python est un langage dynamiquement typé : on regarde les erreurs au runtime\n",
    "quand on fait if 1 < 0 :\n",
    "    \"3\" + 2 ne lève pas d'erreur car le if n'est pas vérifier, mais si on sort du if : erreur\n",
    "    "
   ]
  },
  {
   "cell_type": "markdown",
   "id": "6f71b390",
   "metadata": {},
   "source": [
    "pour voir l'ensemble des méthodes des attributs : dir(a)"
   ]
  },
  {
   "cell_type": "code",
   "execution_count": 4,
   "id": "0b59293c",
   "metadata": {},
   "outputs": [
    {
     "data": {
      "text/plain": [
       "['__abs__',\n",
       " '__add__',\n",
       " '__and__',\n",
       " '__bool__',\n",
       " '__ceil__',\n",
       " '__class__',\n",
       " '__delattr__',\n",
       " '__dir__',\n",
       " '__divmod__',\n",
       " '__doc__',\n",
       " '__eq__',\n",
       " '__float__',\n",
       " '__floor__',\n",
       " '__floordiv__',\n",
       " '__format__',\n",
       " '__ge__',\n",
       " '__getattribute__',\n",
       " '__getnewargs__',\n",
       " '__gt__',\n",
       " '__hash__',\n",
       " '__index__',\n",
       " '__init__',\n",
       " '__init_subclass__',\n",
       " '__int__',\n",
       " '__invert__',\n",
       " '__le__',\n",
       " '__lshift__',\n",
       " '__lt__',\n",
       " '__mod__',\n",
       " '__mul__',\n",
       " '__ne__',\n",
       " '__neg__',\n",
       " '__new__',\n",
       " '__or__',\n",
       " '__pos__',\n",
       " '__pow__',\n",
       " '__radd__',\n",
       " '__rand__',\n",
       " '__rdivmod__',\n",
       " '__reduce__',\n",
       " '__reduce_ex__',\n",
       " '__repr__',\n",
       " '__rfloordiv__',\n",
       " '__rlshift__',\n",
       " '__rmod__',\n",
       " '__rmul__',\n",
       " '__ror__',\n",
       " '__round__',\n",
       " '__rpow__',\n",
       " '__rrshift__',\n",
       " '__rshift__',\n",
       " '__rsub__',\n",
       " '__rtruediv__',\n",
       " '__rxor__',\n",
       " '__setattr__',\n",
       " '__sizeof__',\n",
       " '__str__',\n",
       " '__sub__',\n",
       " '__subclasshook__',\n",
       " '__truediv__',\n",
       " '__trunc__',\n",
       " '__xor__',\n",
       " 'as_integer_ratio',\n",
       " 'bit_length',\n",
       " 'conjugate',\n",
       " 'denominator',\n",
       " 'from_bytes',\n",
       " 'imag',\n",
       " 'numerator',\n",
       " 'real',\n",
       " 'to_bytes']"
      ]
     },
     "execution_count": 4,
     "metadata": {},
     "output_type": "execute_result"
    }
   ],
   "source": [
    "a = 2\n",
    "dir(a)"
   ]
  },
  {
   "cell_type": "markdown",
   "id": "0d5c9693",
   "metadata": {},
   "source": [
    "var.tab => voit toutes les méthodes proposé\n",
    "shift + tab => obtenir la docstring"
   ]
  },
  {
   "cell_type": "code",
   "execution_count": 5,
   "id": "6888e2d1",
   "metadata": {},
   "outputs": [
    {
     "name": "stdout",
     "output_type": "stream",
     "text": [
      "Initialized empty Git repository in /Users/laura/CoursPythonIA/.git/\r\n"
     ]
    }
   ],
   "source": [
    "!git init"
   ]
  },
  {
   "cell_type": "code",
   "execution_count": 6,
   "id": "d3f80a01",
   "metadata": {},
   "outputs": [
    {
     "name": "stdout",
     "output_type": "stream",
     "text": [
      "On branch master\r\n",
      "\r\n",
      "No commits yet\r\n",
      "\r\n",
      "Untracked files:\r\n",
      "  (use \"git add <file>...\" to include in what will be committed)\r\n",
      "\r\n",
      "\t\u001b[31m.ipynb_checkpoints/\u001b[m\r\n",
      "\t\u001b[31mpremier_notebook.ipynb\u001b[m\r\n",
      "\r\n",
      "nothing added to commit but untracked files present (use \"git add\" to track)\r\n"
     ]
    }
   ],
   "source": [
    "!git status"
   ]
  },
  {
   "cell_type": "code",
   "execution_count": 7,
   "id": "de9aa25d",
   "metadata": {},
   "outputs": [],
   "source": [
    "!git remote -v"
   ]
  },
  {
   "cell_type": "code",
   "execution_count": 8,
   "id": "f5872b44",
   "metadata": {
    "scrolled": true
   },
   "outputs": [
    {
     "name": "stdout",
     "output_type": "stream",
     "text": [
      "usage: git remote add [<options>] <name> <url>\r\n",
      "\r\n",
      "    -f, --fetch           fetch the remote branches\r\n",
      "    --tags                import all tags and associated objects when fetching\r\n",
      "                          or do not fetch any tag at all (--no-tags)\r\n",
      "    -t, --track <branch>  branch(es) to track\r\n",
      "    -m, --master <branch>\r\n",
      "                          master branch\r\n",
      "    --mirror[=<push|fetch>]\r\n",
      "                          set up remote as a mirror to push to or fetch from\r\n",
      "\r\n"
     ]
    }
   ],
   "source": [
    "!git remote add https://github.com/Laura857/pythonIA.git"
   ]
  },
  {
   "cell_type": "code",
   "execution_count": 9,
   "id": "faa8f3c3",
   "metadata": {},
   "outputs": [],
   "source": [
    "!git remote -v"
   ]
  },
  {
   "cell_type": "code",
   "execution_count": null,
   "id": "5e5381d6",
   "metadata": {},
   "outputs": [],
   "source": [
    "g"
   ]
  }
 ],
 "metadata": {
  "kernelspec": {
   "display_name": "Python 3",
   "language": "python",
   "name": "python3"
  },
  "language_info": {
   "codemirror_mode": {
    "name": "ipython",
    "version": 3
   },
   "file_extension": ".py",
   "mimetype": "text/x-python",
   "name": "python",
   "nbconvert_exporter": "python",
   "pygments_lexer": "ipython3",
   "version": "3.8.8"
  }
 },
 "nbformat": 4,
 "nbformat_minor": 5
}
